{
 "cells": [
  {
   "cell_type": "code",
   "execution_count": 5,
   "metadata": {},
   "outputs": [
    {
     "name": "stdout",
     "output_type": "stream",
     "text": [
      "Caracter  P\n",
      "Caracter  r\n",
      "Caracter  u\n",
      "Caracter  e\n",
      "Caracter  b\n",
      "Caracter  a\n",
      "Caracter   \n",
      "Caracter  n\n",
      "Caracter  ú\n",
      "Caracter  m\n",
      "Caracter  e\n",
      "Caracter  r\n",
      "Caracter  o\n",
      "Prueba número\n",
      "Caracter  V\n",
      "Caracter  a\n",
      "Caracter  r\n",
      "Caracter  i\n",
      "Caracter  o\n",
      "Caracter  s\n",
      "Varios\n",
      "Caracter  C\n",
      "Caracter  o\n",
      "Caracter  m\n",
      "Caracter  p\n",
      "Caracter  u\n",
      "Compu\n"
     ]
    }
   ],
   "source": [
    "b = [\"Prueba número\", \"Varios\", \"Compu\"]\n",
    "for a in b:\n",
    "    for c in a:\n",
    "        print(\"Caracter \", c)\n",
    "    print(a)"
   ]
  },
  {
   "cell_type": "code",
   "execution_count": 12,
   "metadata": {},
   "outputs": [
    {
     "name": "stdout",
     "output_type": "stream",
     "text": [
      "32.0\n"
     ]
    }
   ],
   "source": [
    "a = 31\n",
    "b = 80\n",
    "c = 10\n",
    "if a > 30 and b <=100: \n",
    "    print(a+b/b)\n",
    "elif c <= 10:\n",
    "    print(c)\n",
    "else:\n",
    "    print(b)"
   ]
  },
  {
   "cell_type": "code",
   "execution_count": 22,
   "metadata": {},
   "outputs": [
    {
     "data": {
      "text/plain": [
       "7"
      ]
     },
     "execution_count": 22,
     "metadata": {},
     "output_type": "execute_result"
    }
   ],
   "source": [
    "contador += 1\n",
    "contador"
   ]
  },
  {
   "cell_type": "code",
   "execution_count": 23,
   "metadata": {},
   "outputs": [
    {
     "name": "stdout",
     "output_type": "stream",
     "text": [
      "0\n",
      "1\n",
      "2\n",
      "3\n",
      "4\n",
      "5\n",
      "6\n",
      "7\n",
      "8\n",
      "9\n"
     ]
    }
   ],
   "source": [
    "contador = 0\n",
    "while contador < len(range(10)):\n",
    "    print(contador)\n",
    "    contador += 1\n",
    "    "
   ]
  },
  {
   "cell_type": "code",
   "execution_count": 25,
   "metadata": {},
   "outputs": [],
   "source": [
    "c = []\n",
    "b = range(20)\n",
    "for a in b:\n",
    "    c.append(a**2)\n",
    "    "
   ]
  },
  {
   "cell_type": "code",
   "execution_count": 26,
   "metadata": {},
   "outputs": [
    {
     "data": {
      "text/plain": [
       "[0,\n",
       " 1,\n",
       " 4,\n",
       " 9,\n",
       " 16,\n",
       " 25,\n",
       " 36,\n",
       " 49,\n",
       " 64,\n",
       " 81,\n",
       " 100,\n",
       " 121,\n",
       " 144,\n",
       " 169,\n",
       " 196,\n",
       " 225,\n",
       " 256,\n",
       " 289,\n",
       " 324,\n",
       " 361]"
      ]
     },
     "execution_count": 26,
     "metadata": {},
     "output_type": "execute_result"
    }
   ],
   "source": [
    "c"
   ]
  },
  {
   "cell_type": "code",
   "execution_count": 27,
   "metadata": {},
   "outputs": [],
   "source": [
    "c=[i**2 for i in range(20)]"
   ]
  },
  {
   "cell_type": "code",
   "execution_count": 47,
   "metadata": {},
   "outputs": [
    {
     "data": {
      "text/plain": [
       "'pailis'"
      ]
     },
     "execution_count": 47,
     "metadata": {},
     "output_type": "execute_result"
    }
   ],
   "source": [
    "from collections import defaultdict\n",
    "\n",
    "sn = defaultdict(lambda: 'pailis')\n",
    "\n",
    "sn[\"valor\"] = [132,156,172]\n",
    "sn[\"Peso\"] = [34,51]\n",
    "\n",
    "snr = {\"valor\":[132,156,172], \"Peso\":[34,51]}\n",
    "\n",
    "sn[\"peso\"]"
   ]
  },
  {
   "cell_type": "code",
   "execution_count": 52,
   "metadata": {},
   "outputs": [
    {
     "data": {
      "text/plain": [
       "dict_items([('valor', [132, 156, 172]), ('Peso', [34, 51])])"
      ]
     },
     "execution_count": 52,
     "metadata": {},
     "output_type": "execute_result"
    }
   ],
   "source": []
  }
 ],
 "metadata": {
  "kernelspec": {
   "display_name": "Python 3",
   "language": "python",
   "name": "python3"
  },
  "language_info": {
   "codemirror_mode": {
    "name": "ipython",
    "version": 3
   },
   "file_extension": ".py",
   "mimetype": "text/x-python",
   "name": "python",
   "nbconvert_exporter": "python",
   "pygments_lexer": "ipython3",
   "version": "3.8.5"
  }
 },
 "nbformat": 4,
 "nbformat_minor": 4
}
